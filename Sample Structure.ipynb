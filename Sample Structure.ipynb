{
 "cells": [
  {
   "cell_type": "markdown",
   "id": "730e049c-064d-415a-b3ca-6d72c54ac9df",
   "metadata": {},
   "source": [
    "# Autoencoder Development\n",
    "\n",
    "#### 1. Dependencies\n",
    "\n",
    "This section could include:\n",
    "* Library imports.\n",
    "* Constant definitions"
   ]
  },
  {
   "cell_type": "code",
   "execution_count": 2,
   "id": "4048adb1-c81f-49b2-8eba-93c03ba0428b",
   "metadata": {},
   "outputs": [],
   "source": [
    "import matplotlib.pyplot as plt\n",
    "import math\n",
    "import numpy as np\n",
    "import torch\n",
    "import torch.nn as nn\n",
    "from torch.utils.data import TensorDataset, DataLoader\n",
    "import gc"
   ]
  },
  {
   "cell_type": "code",
   "execution_count": null,
   "id": "53d6fc3a-afe7-47f1-a08b-e5874d6ee900",
   "metadata": {},
   "outputs": [],
   "source": []
  },
  {
   "cell_type": "code",
   "execution_count": null,
   "id": "01a224aa-025d-45fe-b494-4f7ce8421f78",
   "metadata": {},
   "outputs": [],
   "source": []
  },
  {
   "cell_type": "markdown",
   "id": "4c90b89a-efd7-4e21-9e82-860133c6384b",
   "metadata": {},
   "source": [
    "#### 2. Data Loading & Feature Engineering\n",
    "\n",
    "This section could include:\n",
    "\n",
    "* Loading of data files\n",
    "* Data manipulation\n",
    "* Feature engineering strategies"
   ]
  },
  {
   "cell_type": "code",
   "execution_count": null,
   "id": "9acc3371-4417-4c2a-8c7e-8e870a69b521",
   "metadata": {},
   "outputs": [],
   "source": [
    "images = np.load(\"subset_1.npy\")\n",
    "\n",
    "num_images = images.shape[0]\n",
    "training_samples = int((0.75 * num_images) // 1)\n",
    "batch_size = math.ceil(training_samples / 10)\n",
    "\n",
    "train_data = images[:training_samples] / 255\n",
    "test_data = images[training_samples:] / 255\n",
    "\n",
    "train_data = torch.tensor(train_data, dtype = torch.float32)\n",
    "test_data = torch.tensor(test_data, dtype = torch.float32)\n",
    "\n",
    "train_dataset = TensorDataset(train_data)\n",
    "test_dataset = TensorDataset(test_data)\n",
    "\n",
    "train_loader = DataLoader(dataset = train_dataset, batch_size = batch_size, shuffle = True)\n",
    "test_loader = DataLoader(dataset = test_dataset, batch_size = 1, shuffle = False)"
   ]
  },
  {
   "cell_type": "code",
   "execution_count": null,
   "id": "c70fb599-b9cf-48e5-a383-8d936074713a",
   "metadata": {},
   "outputs": [
    {
     "data": {
      "text/plain": [
       "tensor([0.0627, 0.0824, 0.0549,  ..., 0.2314, 0.2196, 0.0824])"
      ]
     },
     "execution_count": 10,
     "metadata": {},
     "output_type": "execute_result"
    }
   ],
   "source": []
  },
  {
   "cell_type": "code",
   "execution_count": null,
   "id": "a3b919c8-097a-4db0-bb0c-07feb26b66a8",
   "metadata": {},
   "outputs": [],
   "source": []
  },
  {
   "cell_type": "markdown",
   "id": "53279602-f9bc-4d3f-b8ed-6d40d841bc71",
   "metadata": {},
   "source": [
    "#### 3. Model Development\n",
    "\n",
    "This section could include:\n",
    "\n",
    "* Model Definitions\n",
    "* Hyperparameter Tuning\n",
    "* Training code\n",
    "* Optimisation"
   ]
  },
  {
   "cell_type": "code",
   "execution_count": null,
   "id": "b623fd06-4ad7-4d39-b8d1-a6c5dac565c8",
   "metadata": {},
   "outputs": [],
   "source": []
  },
  {
   "cell_type": "code",
   "execution_count": null,
   "id": "2ca101ff-e631-4663-93cd-73fba13748b0",
   "metadata": {},
   "outputs": [],
   "source": []
  },
  {
   "cell_type": "code",
   "execution_count": null,
   "id": "2b5155bf-eaee-4f97-b9ec-b2f82e599072",
   "metadata": {},
   "outputs": [],
   "source": []
  },
  {
   "cell_type": "markdown",
   "id": "51103a84-3a71-4094-9e81-359c98e3ba97",
   "metadata": {},
   "source": [
    "#### 4. Model Evaluation\n",
    "\n",
    "This section could include:\n",
    "\n",
    "* Testing of models trained\n",
    "* Generation of results"
   ]
  },
  {
   "cell_type": "code",
   "execution_count": null,
   "id": "3546b86b-6bb0-4909-afd8-02f1ae98032d",
   "metadata": {},
   "outputs": [],
   "source": []
  },
  {
   "cell_type": "code",
   "execution_count": null,
   "id": "f170bbbe-caa3-411f-817a-3c3408a4f15e",
   "metadata": {},
   "outputs": [],
   "source": []
  },
  {
   "cell_type": "code",
   "execution_count": null,
   "id": "d1427a38-143b-4032-a4e6-8da36cec44f2",
   "metadata": {},
   "outputs": [],
   "source": []
  },
  {
   "cell_type": "markdown",
   "id": "4b096648-b91c-43c2-9dae-a6e95bf72dd1",
   "metadata": {},
   "source": [
    "#### 5. Figure Creation\n",
    "\n",
    "This section could include:\n",
    "\n",
    "* Creation of figures for the report.\n",
    "* Creationg of tables for the report."
   ]
  },
  {
   "cell_type": "code",
   "execution_count": null,
   "id": "873f56ce-b8dc-48a2-9486-f9c180c0d511",
   "metadata": {},
   "outputs": [],
   "source": []
  },
  {
   "cell_type": "code",
   "execution_count": null,
   "id": "86b62fd8-9523-4a1e-8496-aa2b720536a4",
   "metadata": {},
   "outputs": [],
   "source": []
  },
  {
   "cell_type": "code",
   "execution_count": null,
   "id": "a72a7775-606e-4d8b-a92f-35b26e409140",
   "metadata": {},
   "outputs": [],
   "source": []
  }
 ],
 "metadata": {
  "kernelspec": {
   "display_name": "Python 3 (ipykernel)",
   "language": "python",
   "name": "python3"
  },
  "language_info": {
   "codemirror_mode": {
    "name": "ipython",
    "version": 3
   },
   "file_extension": ".py",
   "mimetype": "text/x-python",
   "name": "python",
   "nbconvert_exporter": "python",
   "pygments_lexer": "ipython3",
   "version": "3.11.7"
  }
 },
 "nbformat": 4,
 "nbformat_minor": 5
}

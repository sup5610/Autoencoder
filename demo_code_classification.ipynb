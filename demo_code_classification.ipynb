{
 "cells": [
  {
   "cell_type": "code",
   "execution_count": 1,
   "id": "1d1cb8a9-1cd0-4c8f-8b39-eb612380f570",
   "metadata": {},
   "outputs": [],
   "source": [
    "import matplotlib.pyplot as plt\n",
    "import numpy as np"
   ]
  },
  {
   "cell_type": "code",
   "execution_count": 3,
   "id": "35321347-7bc3-4752-88f5-b1f89792e1f9",
   "metadata": {},
   "outputs": [],
   "source": [
    "images = np.load(\"subset_1.npy\")"
   ]
  },
  {
   "cell_type": "code",
   "execution_count": 4,
   "id": "fb4b5bd5-00fd-4e09-9de9-00cc19206da6",
   "metadata": {},
   "outputs": [
    {
     "data": {
      "text/plain": [
       "(400, 101250)"
      ]
     },
     "execution_count": 4,
     "metadata": {},
     "output_type": "execute_result"
    }
   ],
   "source": [
    "images.shape"
   ]
  },
  {
   "cell_type": "code",
   "execution_count": 5,
   "id": "f2a10ad1-fc7e-4aeb-b62b-d4967d0e08d4",
   "metadata": {},
   "outputs": [],
   "source": [
    "one_image = np.reshape(images[2, :], (150, 225, 3))"
   ]
  },
  {
   "cell_type": "code",
   "execution_count": null,
   "id": "7ba7c53e-4d49-4ea0-918a-08d049ec3914",
   "metadata": {},
   "outputs": [],
   "source": [
    "plt.imshow(one_image, cmap='grey')"
   ]
  },
  {
   "cell_type": "code",
   "execution_count": null,
   "id": "848469c2-1276-4d14-a6b3-e602890b21f3",
   "metadata": {},
   "outputs": [],
   "source": [
    "fig, axs = plt.subplots(nrows=5, ncols=5, figsize=(7.5, 5))\n",
    "\n",
    "for i in range(5):\n",
    "    for j in range(5):\n",
    "        axs[i, j].imshow(np.reshape(images[(i*10)+j, :], (25, 50)), cmap='grey')\n",
    "        axs[i, j].set_xticks([])\n",
    "        axs[i, j].set_yticks([])"
   ]
  },
  {
   "cell_type": "code",
   "execution_count": null,
   "id": "60540321-528f-49ac-8eac-14080da52aee",
   "metadata": {},
   "outputs": [],
   "source": [
    "images = images / 255"
   ]
  },
  {
   "cell_type": "code",
   "execution_count": null,
   "id": "eb4e7e80-6845-4417-a374-c29aa4fa9fb3",
   "metadata": {},
   "outputs": [],
   "source": [
    "labels = np.load(\"labels.npy\")"
   ]
  },
  {
   "cell_type": "code",
   "execution_count": null,
   "id": "c59e62d7-b503-4f51-ad41-5e9b4b6449be",
   "metadata": {},
   "outputs": [],
   "source": [
    "images.shape"
   ]
  },
  {
   "cell_type": "code",
   "execution_count": null,
   "id": "51320a70-d92c-491d-b4a8-15ffd661a1f0",
   "metadata": {},
   "outputs": [],
   "source": [
    "labels.shape"
   ]
  },
  {
   "cell_type": "code",
   "execution_count": null,
   "id": "3beed918-cafb-45ea-ae74-8ceea62d9669",
   "metadata": {},
   "outputs": [],
   "source": []
  },
  {
   "cell_type": "code",
   "execution_count": 1,
   "id": "d6605f20-6f8b-4dbc-b1dc-6c22f74379a2",
   "metadata": {},
   "outputs": [],
   "source": [
    "from sklearn.preprocessing import OneHotEncoder\n",
    "from sklearn.model_selection import train_test_split\n",
    "import torch\n",
    "\n",
    "import torch.nn as nn\n",
    "import torch.nn.functional as F\n",
    "import torch.optim as optim"
   ]
  },
  {
   "cell_type": "code",
   "execution_count": null,
   "id": "71d5684c-3f46-46f5-8c1f-d8b81a7542d1",
   "metadata": {},
   "outputs": [],
   "source": [
    "labels = OneHotEncoder(sparse_output=False).fit_transform(labels.reshape(-1, 1))"
   ]
  },
  {
   "cell_type": "code",
   "execution_count": null,
   "id": "40d1dded-9193-4802-9667-5842bc7414af",
   "metadata": {},
   "outputs": [],
   "source": [
    "labels"
   ]
  },
  {
   "cell_type": "code",
   "execution_count": null,
   "id": "e8c6da95-8ce5-4ddd-851d-1f0dbdae69a1",
   "metadata": {},
   "outputs": [],
   "source": [
    "train_X, test_X, train_y, test_y = train_test_split(images, labels, test_size=0.30)"
   ]
  },
  {
   "cell_type": "code",
   "execution_count": null,
   "id": "76e1527d-d1fb-4200-809b-b426a1ecc3fd",
   "metadata": {},
   "outputs": [],
   "source": [
    "type(train_X)"
   ]
  },
  {
   "cell_type": "code",
   "execution_count": null,
   "id": "83efe05c-b339-46e6-a5a7-4c3918b1fe71",
   "metadata": {},
   "outputs": [],
   "source": [
    "train_X = torch.from_numpy(train_X).to(torch.float)\n",
    "train_y = torch.from_numpy(train_y).to(torch.float)\n",
    "test_X = torch.from_numpy(test_X).to(torch.float)\n",
    "test_y = torch.from_numpy(test_y).to(torch.float)"
   ]
  },
  {
   "cell_type": "code",
   "execution_count": null,
   "id": "b41590e1-f250-42a1-97ea-9b4f7ba52ed6",
   "metadata": {},
   "outputs": [],
   "source": [
    "class Net(nn.Module):\n",
    "    def __init__(self):\n",
    "        super().__init__()\n",
    "\n",
    "        self.hidden_layers = [\n",
    "            nn.Linear(101250, 200),\n",
    "            nn.Linear(200, 10)\n",
    "        ]\n",
    "\n",
    "        self.output_layer = nn.Linear(10, 4)\n",
    "\n",
    "    def forward(self, x):\n",
    "        for layer in self.hidden_layers:\n",
    "            x = F.relu(layer(x))\n",
    "        return F.softmax(F.sigmoid(self.output_layer(x)))"
   ]
  },
  {
   "cell_type": "code",
   "execution_count": null,
   "id": "7ed43835-4d43-4828-9525-4552ca7ef4b2",
   "metadata": {},
   "outputs": [],
   "source": [
    "my_network = Net()"
   ]
  },
  {
   "cell_type": "code",
   "execution_count": null,
   "id": "c4555039-b74b-4c70-8da1-946ad390606c",
   "metadata": {},
   "outputs": [],
   "source": [
    "criterion = nn.BCELoss()\n",
    "optimizer = optim.Adam(my_network.parameters(), learning_rate=0.01)"
   ]
  },
  {
   "cell_type": "code",
   "execution_count": null,
   "id": "37442f3e-f187-438d-803a-b072f6b81521",
   "metadata": {},
   "outputs": [],
   "source": [
    "my_network(train_X[:5])"
   ]
  },
  {
   "cell_type": "code",
   "execution_count": null,
   "id": "f8ad7d9b-319d-439d-90a5-b8ef6e31838b",
   "metadata": {},
   "outputs": [],
   "source": [
    "batch_size = 50\n",
    "for epoch in range(5):\n",
    "    loss = 0.0\n",
    "    for idx in range(0, train_X.shape[0], batch_size):\n",
    "        optimizer.zero_grad()\n",
    "        outputs = my_network(train_X[idx:idx+batch_size])\n",
    "        new_loss = criterion(outputs, train_y[idx:idx+batch_size])\n",
    "        new_loss.backward()\n",
    "        optimizer.step()\n",
    "        loss = loss + new_loss.item()\n",
    "    print(f\"Epoch {epoch} loss: {loss:.3f}\")\n",
    "    \n",
    "    test_classes = my_network(test_X)\n",
    "    test_classes = test_classes.argmax(axis=1)\n",
    "    print(f\"Test Accuracy: {accuracy_score(test_classes, test_y.argmax(axis=1))}\")"
   ]
  },
  {
   "cell_type": "code",
   "execution_count": null,
   "id": "8ad0c8d8-ddf5-4653-b01f-39942b5c0fed",
   "metadata": {},
   "outputs": [],
   "source": []
  },
  {
   "cell_type": "code",
   "execution_count": null,
   "id": "7101faa4-dfd8-4801-aada-760127bdf33c",
   "metadata": {},
   "outputs": [],
   "source": []
  }
 ],
 "metadata": {
  "kernelspec": {
   "display_name": "Python 3",
   "language": "python",
   "name": "python3"
  },
  "language_info": {
   "codemirror_mode": {
    "name": "ipython",
    "version": 3
   },
   "file_extension": ".py",
   "mimetype": "text/x-python",
   "name": "python",
   "nbconvert_exporter": "python",
   "pygments_lexer": "ipython3",
   "version": "3.12.9"
  }
 },
 "nbformat": 4,
 "nbformat_minor": 5
}
